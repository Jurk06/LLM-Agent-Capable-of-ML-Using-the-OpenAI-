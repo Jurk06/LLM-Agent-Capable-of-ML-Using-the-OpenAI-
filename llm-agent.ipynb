{
 "cells": [
  {
   "cell_type": "markdown",
   "id": "d55186e5-fd09-45eb-91c5-7f7b231158c7",
   "metadata": {},
   "source": [
    "# Create an LLM Agent Capable of Math and Machine Learning Operations, Using the OpenAI API.\n",
    "\n",
    "You are an AI engineer working at a financial services firm. Your financial analysts want to use modern large language models as a tool, but need access to mathematical and regression tools that LLM’s are not natively skilled at. Your manager has asked you to prototype an LLM agent solution, coding directly against the OpenAI chat completions API, that augments a chatbot with local tools capable of performing basic mathematical operations and linear regression. Your LLM agent will be evaluated by its ability to successfully compute math and regression problems given as natural language prompts."
   ]
  },
  {
   "cell_type": "code",
   "execution_count": 1,
   "id": "8a6faf85-0051-494e-9aef-a4607178bb19",
   "metadata": {},
   "outputs": [],
   "source": [
    "import json\n",
    "\n"
   ]
  },
  {
   "cell_type": "code",
   "execution_count": 2,
   "id": "944e22ca-7b93-450e-ba7f-cd651846b4c8",
   "metadata": {},
   "outputs": [],
   "source": [
    "def perform_math_operation(operation, args=[]):\n",
    "    result = 0\n",
    "    if operation == 'add':\n",
    "        result = sum(args)\n",
    "    elif operation == 'subtract':\n",
    "        result = args[0] - sum(args[1:])\n",
    "    elif operation == 'multiply':\n",
    "        result = 1\n",
    "        for num in args:\n",
    "            result *= num\n",
    "    elif operation == 'divide':\n",
    "        result = args[0]\n",
    "        for num in args[1:]:\n",
    "            result /= num\n",
    "    else:\n",
    "        raise ValueError(\"Unsupported operation\")\n",
    " \n",
    "    retval = {\"Result\": result}\n",
    "    return json.dumps(retval) "
   ]
  },
  {
   "cell_type": "code",
   "execution_count": 3,
   "id": "0e741a14-9610-4f61-aebf-808d8178ec47",
   "metadata": {},
   "outputs": [
    {
     "data": {
      "text/plain": [
       "'{\"Result\": 32}'"
      ]
     },
     "execution_count": 3,
     "metadata": {},
     "output_type": "execute_result"
    }
   ],
   "source": [
    "perform_math_operation(\"multiply\", [8,2,2])\n",
    "\n"
   ]
  },
  {
   "cell_type": "code",
   "execution_count": 4,
   "id": "b44736bd-1683-487e-b079-99a826d51eeb",
   "metadata": {},
   "outputs": [
    {
     "data": {
      "text/plain": [
       "'{\"Result\": 12}'"
      ]
     },
     "execution_count": 4,
     "metadata": {},
     "output_type": "execute_result"
    }
   ],
   "source": [
    "perform_math_operation(\"add\", [8,2,2])\n",
    "\n"
   ]
  },
  {
   "cell_type": "code",
   "execution_count": 5,
   "id": "48e2fb63-c004-4d2d-b964-284e874ebadd",
   "metadata": {},
   "outputs": [],
   "source": [
    "import numpy as np\n",
    "from sklearn.linear_model import LinearRegression"
   ]
  },
  {
   "cell_type": "code",
   "execution_count": 6,
   "id": "4b45bdd2-a770-4646-9ef1-6be4638705ee",
   "metadata": {},
   "outputs": [],
   "source": [
    "def predict_next_in_series(series):\n",
    "    x = np.array(range(len(series))).reshape(-1, 1)\n",
    "    y = np.array(series).reshape(-1, 1)"
   ]
  },
  {
   "cell_type": "code",
   "execution_count": 7,
   "id": "e283099a-4e2e-41c8-b424-492947de633d",
   "metadata": {},
   "outputs": [],
   "source": [
    "def predict_next_in_series(series):\n",
    "    x = np.array(range(len(series))).reshape(-1, 1)\n",
    "    y = np.array(series).reshape(-1, 1)\n",
    "    model = LinearRegression().fit(x, y)"
   ]
  },
  {
   "cell_type": "code",
   "execution_count": 8,
   "id": "84a88d6b-1ff9-4793-80c7-8ba6764c84b2",
   "metadata": {},
   "outputs": [],
   "source": [
    "def predict_next_in_series(series):\n",
    "    x = np.array(range(len(series))).reshape(-1, 1)\n",
    "    y = np.array(series).reshape(-1, 1)\n",
    "    model = LinearRegression().fit(x, y)\n",
    "    next_index = len(series)\n",
    "    next_value = model.predict([[next_index]])"
   ]
  },
  {
   "cell_type": "code",
   "execution_count": 9,
   "id": "2ef82baa-3c22-4a34-9cdd-fd567e8bb452",
   "metadata": {},
   "outputs": [],
   "source": [
    "def predict_next_in_series(series):\n",
    "    x = np.array(range(len(series))).reshape(-1, 1)\n",
    "    y = np.array(series).reshape(-1, 1)\n",
    "    model = LinearRegression().fit(x, y)\n",
    "    next_index = len(series)\n",
    "    next_value = model.predict([[next_index]])\n",
    "    next_info = {\n",
    "        \"Next value\": next_value[0][0]\n",
    "    }\n",
    "    return json.dumps(next_info)"
   ]
  },
  {
   "cell_type": "code",
   "execution_count": 10,
   "id": "9fd42ac7-2360-479a-9b59-ffce843860d9",
   "metadata": {},
   "outputs": [
    {
     "data": {
      "text/plain": [
       "'{\"Next value\": 10.0}'"
      ]
     },
     "execution_count": 10,
     "metadata": {},
     "output_type": "execute_result"
    }
   ],
   "source": [
    "predict_next_in_series([2, 4, 6, 8])\n",
    "\n"
   ]
  },
  {
   "cell_type": "code",
   "execution_count": 11,
   "id": "3d95a704-6e51-40bd-98a6-8cd5c9365eef",
   "metadata": {},
   "outputs": [],
   "source": [
    "mathTool = {\n",
    "        \"type\": \"function\",\n",
    "        \"function\": {\n",
    "            \"name\": \"perform_math_operation\",\n",
    "            \"description\": \"Perform a mathematical operation\",\n",
    "            \"parameters\": {\n",
    "                \"type\": \"object\",\n",
    "                \"properties\": {\n",
    "                    \"operation\": \n",
    "                    {\n",
    "                        \"type\": \"string\", \n",
    "                        \"enum\": [\"add\", \"subtract\", \"multiply\", \"divide\"],\n",
    "                        \"description\": \"The requested mathematical operation to perform.\"\n",
    "                    },\n",
    "                    \"operands\": \n",
    "                    {\n",
    "                        \"type\": \"array\", \n",
    "                        \"items\": {\"type\": \"number\"},\n",
    "                        \"description\": \"The operands of the requested mathematical operation, from left to right.\"\n",
    "                    }\n",
    "                },\n",
    "                \"required\": [\"operation\", \"operands\"]\n",
    "            },\n",
    "        }\n",
    "    }"
   ]
  },
  {
   "cell_type": "code",
   "execution_count": 12,
   "id": "045f59c1-4c84-406b-98d1-83bc3e163695",
   "metadata": {},
   "outputs": [],
   "source": [
    "regressionTool = {\n",
    "        \"type\": \"function\",\n",
    "        \"function\": {\n",
    "            \"name\": \"predict_next_in_series\",\n",
    "            \"description\": \"Predict the next number in a series using linear regression\",\n",
    "            \"parameters\": {\n",
    "                \"type\": \"object\",\n",
    "                \"properties\": {\n",
    "                    \"series\": {\n",
    "                        \"type\": \"array\", \n",
    "                        \"items\": {\"type\": \"number\"},\n",
    "                        \"description\": \"The list of numbers in the series to be completed.\"\n",
    "                    }\n",
    "                },\n",
    "                \"required\": [\"series\"]\n",
    "            },\n",
    "        }\n",
    "    }"
   ]
  },
  {
   "cell_type": "code",
   "execution_count": 13,
   "id": "eba98536-2f09-446a-99d1-4e829c19d63d",
   "metadata": {},
   "outputs": [],
   "source": [
    "tools = [mathTool, regressionTool]"
   ]
  },
  {
   "cell_type": "code",
   "execution_count": 14,
   "id": "37031d73-9a11-4f32-82e0-a7bd17cbf5b7",
   "metadata": {},
   "outputs": [],
   "source": [
    "import openai\n",
    "from openai import OpenAI\n",
    " \n",
    "client = OpenAI()"
   ]
  },
  {
   "cell_type": "code",
   "execution_count": 15,
   "id": "20970dd5-20a8-4ff6-b983-e9ceaa3fc2a1",
   "metadata": {},
   "outputs": [],
   "source": [
    "def make_initial_request(messages):\n",
    " \n",
    "    response = client.chat.completions.create(\n",
    "        model=\"gpt-3.5-turbo\",\n",
    "        messages=messages,\n",
    "        tools=tools,\n",
    "        tool_choice=None\n",
    "    )\n",
    "    \n",
    "    response_message = response.choices[0].message\n",
    "    \n",
    "    print(response_message)\n",
    "    \n",
    "    return response_message"
   ]
  },
  {
   "cell_type": "code",
   "execution_count": 16,
   "id": "7ff47379-1d72-4cbc-8463-c0c1686e39cf",
   "metadata": {},
   "outputs": [],
   "source": [
    "def call_tool(tool):\n",
    "    \n",
    "    print(\"calling tool: \")\n",
    "    print(tool)\n",
    "    \n",
    "    response = {}\n",
    "    \n",
    "    function_name = tool.function.name\n",
    "    if (function_name == \"perform_math_operation\"):\n",
    "        args = json.loads(tool.function.arguments)\n",
    "        fn_response = perform_math_operation(operation=args.get(\"operation\"),args=args.get(\"operands\"))\n",
    "        response = {\n",
    "            \"tool_call_id\": tool.id,\n",
    "            \"role\": \"tool\",\n",
    "            \"name\": function_name,\n",
    "            \"content\": fn_response,\n",
    "        }\n",
    "    elif (function_name == \"predict_next_in_series\"):\n",
    "        args = json.loads(tool.function.arguments)\n",
    "        fn_response = predict_next_in_series(series=args.get(\"series\"))\n",
    "        response = {\n",
    "            \"tool_call_id\": tool.id,\n",
    "            \"role\": \"tool\",\n",
    "            \"name\": function_name,\n",
    "            \"content\": fn_response,\n",
    "        }\n",
    "    return response"
   ]
  },
  {
   "cell_type": "code",
   "execution_count": 17,
   "id": "b64ba329-5d57-44b7-bbbd-47343bb7a927",
   "metadata": {},
   "outputs": [],
   "source": [
    "def llm_agent(prompt):\n",
    "    messages = [{\"role\": \"user\", \"content\": prompt}]\n",
    "    \n",
    "    first_response = make_initial_request(messages)\n",
    "    \n",
    "    tool_calls = first_response.tool_calls\n",
    "    if (tool_calls):\n",
    " \n",
    "        messages.append(first_response)\n",
    "        \n",
    "        for tool in tool_calls:\n",
    "            tool_response = call_tool(tool)\n",
    "            messages.append(tool_response)\n",
    " \n",
    "        print(\"second call:\")\n",
    "        print(messages)\n",
    "        second_response = client.chat.completions.create(\n",
    "            model=\"gpt-3.5-turbo\",\n",
    "            messages = messages,\n",
    "        )\n",
    "            \n",
    "        return second_response\n",
    "    else:\n",
    "        return response"
   ]
  },
  {
   "cell_type": "code",
   "execution_count": 18,
   "id": "b098209b-a86c-4ca3-a010-97ec0701cf21",
   "metadata": {},
   "outputs": [
    {
     "name": "stdout",
     "output_type": "stream",
     "text": [
      "ChatCompletionMessage(content='', refusal=None, role='assistant', audio=None, function_call=FunctionCall(arguments='', name=''), tool_calls=[ChatCompletionMessageToolCall(id='call_psU4MSP7ZEZljlwaIvLL0yNF', function=Function(arguments='{\"operands\":[5,3],\"operation\":\"divide\"}', name='perform_math_operation'), type='function')], name='')\n",
      "calling tool: \n",
      "ChatCompletionMessageToolCall(id='call_psU4MSP7ZEZljlwaIvLL0yNF', function=Function(arguments='{\"operands\":[5,3],\"operation\":\"divide\"}', name='perform_math_operation'), type='function')\n",
      "second call:\n",
      "[{'role': 'user', 'content': 'What is 5 divided by 3?'}, ChatCompletionMessage(content='', refusal=None, role='assistant', audio=None, function_call=FunctionCall(arguments='', name=''), tool_calls=[ChatCompletionMessageToolCall(id='call_psU4MSP7ZEZljlwaIvLL0yNF', function=Function(arguments='{\"operands\":[5,3],\"operation\":\"divide\"}', name='perform_math_operation'), type='function')], name=''), {'tool_call_id': 'call_psU4MSP7ZEZljlwaIvLL0yNF', 'role': 'tool', 'name': 'perform_math_operation', 'content': '{\"Result\": 1.6666666666666667}'}]\n",
      "ChatCompletion(id=None, choices=[Choice(finish_reason='stop', index=0, logprobs=None, message=ChatCompletionMessage(content='5 divided by 3 is equal to 1.6666666666666667.', refusal=None, role='assistant', audio=None, function_call=FunctionCall(arguments='', name=''), tool_calls=[], name=''))], created=None, model=None, object=None, service_tier=None, system_fingerprint=None, usage=CompletionUsage(completion_tokens=19, prompt_tokens=59, total_tokens=78, completion_tokens_details=None, prompt_tokens_details=None), failure_reason='', status='STATUS_SUCCESS')\n"
     ]
    }
   ],
   "source": [
    "prompt = \"What is 5 divided by 3?\"\n",
    "print (llm_agent(prompt))"
   ]
  },
  {
   "cell_type": "code",
   "execution_count": 19,
   "id": "1b40bc95-9e17-4b77-976e-ad42727d4d46",
   "metadata": {},
   "outputs": [
    {
     "name": "stdout",
     "output_type": "stream",
     "text": [
      "ChatCompletionMessage(content='', refusal=None, role='assistant', audio=None, function_call=FunctionCall(arguments='', name=''), tool_calls=[ChatCompletionMessageToolCall(id='call_5RiCBtjGqw2IKI41sHPq5LKA', function=Function(arguments='{\"series\":[1,3,5,7,11]}', name='predict_next_in_series'), type='function')], name='')\n",
      "calling tool: \n",
      "ChatCompletionMessageToolCall(id='call_5RiCBtjGqw2IKI41sHPq5LKA', function=Function(arguments='{\"series\":[1,3,5,7,11]}', name='predict_next_in_series'), type='function')\n",
      "second call:\n",
      "[{'role': 'user', 'content': 'What is the next value in the series 1, 3, 5, 7, 11?'}, ChatCompletionMessage(content='', refusal=None, role='assistant', audio=None, function_call=FunctionCall(arguments='', name=''), tool_calls=[ChatCompletionMessageToolCall(id='call_5RiCBtjGqw2IKI41sHPq5LKA', function=Function(arguments='{\"series\":[1,3,5,7,11]}', name='predict_next_in_series'), type='function')], name=''), {'tool_call_id': 'call_5RiCBtjGqw2IKI41sHPq5LKA', 'role': 'tool', 'name': 'predict_next_in_series', 'content': '{\"Next value\": 12.600000000000001}'}]\n",
      "ChatCompletion(id=None, choices=[Choice(finish_reason='stop', index=0, logprobs=None, message=ChatCompletionMessage(content='The next value in the series 1, 3, 5, 7, 11 is approximately 12.6.', refusal=None, role='assistant', audio=None, function_call=FunctionCall(arguments='', name=''), tool_calls=[], name=''))], created=None, model=None, object=None, service_tier=None, system_fingerprint=None, usage=CompletionUsage(completion_tokens=28, prompt_tokens=77, total_tokens=105, completion_tokens_details=None, prompt_tokens_details=None), failure_reason='', status='STATUS_SUCCESS')\n"
     ]
    }
   ],
   "source": [
    "prompt = \"What is the next value in the series 1, 3, 5, 7, 11?\"\n",
    "print (llm_agent(prompt))"
   ]
  },
  {
   "cell_type": "code",
   "execution_count": null,
   "id": "89879ef9-0a57-4774-9b36-9cdbc6a3fbb0",
   "metadata": {},
   "outputs": [],
   "source": []
  }
 ],
 "metadata": {
  "kernelspec": {
   "display_name": "Python 3 (ipykernel)",
   "language": "python",
   "name": "python3"
  },
  "language_info": {
   "codemirror_mode": {
    "name": "ipython",
    "version": 3
   },
   "file_extension": ".py",
   "mimetype": "text/x-python",
   "name": "python",
   "nbconvert_exporter": "python",
   "pygments_lexer": "ipython3",
   "version": "3.8.10"
  }
 },
 "nbformat": 4,
 "nbformat_minor": 5
}
